{
 "cells": [
  {
   "cell_type": "markdown",
   "id": "128be334",
   "metadata": {},
   "source": [
    " <p style=\"margin: 0; padding: 0; background-color: black; color: white; text-align: left; font-size: 2em; padding: 20px;\">\n",
    "  Requirements </p>\n",
    "\n",
    "### __Data Source__\n",
    "- The information utilized in this project originates from the dataset offered by IABAC for an imaginary company named INC Future Inc. Within this dataset, there is a collection of employee profiles encompassing diverse features, including both categorical and numerical attributes. The primary objective is to forecast the performance rating of employees based on the provided feature values.\n",
    " - You can access the dataset from here -> http://data.iabac.org/exam/p2/data/INX_Future_Inc_Employee_Performance_CDS_Project2_Data_V1.8.xls\n",
    "\n",
    "\n",
    "### __Libraries used__\n",
    "\n",
    "##### data loading and wrangling libraries for EDA\n",
    "- pandas\n",
    "- numpy\n",
    "\n",
    "##### data visualization libraries\n",
    "- matplotlib\n",
    "- seaborn\n",
    "- bokeh\n",
    "\n",
    "##### data balancing\n",
    "- imblearn\n",
    "\n",
    "##### data splitting, ml algorithms, cross validation and evaluation\n",
    "- sklearn\n",
    "- xgboost\n",
    "\n",
    "##### warnings\n",
    "- warnings\n",
    "\n",
    "##### packages installed for the project\n",
    "- ydata-profiling\n",
    "- xgboost"
   ]
  }
 ],
 "metadata": {
  "kernelspec": {
   "display_name": "Python 3 (ipykernel)",
   "language": "python",
   "name": "python3"
  },
  "language_info": {
   "codemirror_mode": {
    "name": "ipython",
    "version": 3
   },
   "file_extension": ".py",
   "mimetype": "text/x-python",
   "name": "python",
   "nbconvert_exporter": "python",
   "pygments_lexer": "ipython3",
   "version": "3.10.9"
  }
 },
 "nbformat": 4,
 "nbformat_minor": 5
}
